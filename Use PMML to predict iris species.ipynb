{
    "nbformat_minor": 1, 
    "cells": [
        {
            "source": "<table style=\"border: none\" align=\"left\">\n   <tr style=\"border: none\">\n      <th style=\"border: none\"><font face=\"verdana\" size=\"5\" color=\"black\"><b>Persist, Deploy, and Score a PMML model to Predict Iris Species</b></th>\n      <th style=\"border: none\"><img src=\"https://github.com/pmservice/customer-satisfaction-prediction/blob/master/app/static/images/ml_icon_gray.png?raw=true\" alt=\"Watson Machine Learning icon\" height=\"40\" width=\"40\"></th>\n  <tr style=\"border: none\">\n       <th style=\"border: none\"><img src=\"https://github.com/pmservice/wml-sample-models/blob/master/spark/customer-satisfaction-prediction/images/users_banner_2-03.png?raw=true\" width=\"600\" alt=\"Icon\"> </th>\n   </tr>\n</table>", 
            "cell_type": "markdown", 
            "metadata": {}
        }, 
        {
            "source": "This notebook demonstrates how to store a sample Predictive Model Markup Language (PMML) model and score test data. \n\nSome familiarity with python is helpful. This notebook is compatible with Python 3.6.\n\nYou will use the **Iris** data set to predict the species of an iris flower. This data set contains measurements of the iris perianth flower. \n\n## Learning goals\n\nYou will learn how to:\n\n-  Set up the Watson Machine Learning (WML) instance.\n-  Deploy a PMML model.\n-  Score the deployed model.\n\n\n## Contents\n\n1.\t[Set up the environment](#setup)\n2.\t[Persist, deploy, and score a PMML model in the Watson Machine Learning (WML) repository](#scoring)\n3.\t[Summary and next steps](#summary)", 
            "cell_type": "markdown", 
            "metadata": {}
        }, 
        {
            "source": "<a id=\"setup\"></a>\n## 1. Set up the environment\n\nBefore you use the sample code in this notebook, you must perform the following setup tasks:\n\n-  Create a <a href=\"https://cloud.ibm.com/catalog/services/machine-learning\" target=\"_blank\" rel=\"noopener no referrer\">Watson Machine Learning (WML) Service</a> instance (a free plan is offered and information about how to create the instance can be found <a href=\"https://dataplatform.ibm.com/docs/content/analyze-data/wml-setup.html\" target=\"_blank\" rel=\"noopener no referrer\">here</a>).\n-  Install the <a href=\"https://pypi.python.org/pypi?%3Aaction=search&term=watson-machine-learning-client&submit=search\" target=\"_blank\" rel=\"noopener no referrer\">watson-machine-learning-client</a> (**not required on Watson Studio**).", 
            "cell_type": "markdown", 
            "metadata": {}
        }, 
        {
            "source": "\n### 1.1 Set up the WML service instance", 
            "cell_type": "markdown", 
            "metadata": {}
        }, 
        {
            "source": "In this subsection, you will learn how to set up and obtain details of your WML service instance.", 
            "cell_type": "markdown", 
            "metadata": {}
        }, 
        {
            "source": "#### Install the `watson-machine-learning-client` package from pypi\n**Note:** `watson-machine-learning-client` documentation can be found <a href=\"http://wml-api-pyclient.mybluemix.net/\" target=\"_blank\" rel=\"noopener no referrer\">here</a>.", 
            "cell_type": "markdown", 
            "metadata": {}
        }, 
        {
            "execution_count": 1, 
            "cell_type": "code", 
            "metadata": {}, 
            "outputs": [], 
            "source": "!rm -rf $PIP_BUILD/watson-machine-learning-client"
        }, 
        {
            "execution_count": null, 
            "cell_type": "code", 
            "metadata": {}, 
            "outputs": [], 
            "source": "#Install the WML client if required.\n!pip install --upgrade watson-machine-learning-client "
        }, 
        {
            "source": "Authenticate the WML service on the IBM Cloud.\n\n**Tip**: Authentication information (your credentials) can be found in the <a href=\"https://dataplatform.cloud.ibm.com/docs/content/wsj/analyze-data/ml-get-wml-credentials.html\" target=\"_blank\" rel=\"noopener no referrer\">Service Credentials</a> tab of the service instance that you created on the IBM Cloud. <BR>If you cannot find the **instance_id** field in **Service Credentials**, click **New credential (+)** to generate new authentication information. \n\n**Action**: Enter your WML service instance credentials in the following cell.", 
            "cell_type": "markdown", 
            "metadata": {}
        }, 
        {
            "execution_count": 3, 
            "cell_type": "code", 
            "metadata": {}, 
            "outputs": [], 
            "source": "# Enter your credentials here.\nwml_credentials = {\n    'apikey': '***',\n    'url': 'https://ibm-watson-ml.mybluemix.net',\n    'username': '***',\n    'password': '***',\n    'instance_id': '***'\n}"
        }, 
        {
            "execution_count": 5, 
            "cell_type": "code", 
            "metadata": {}, 
            "outputs": [], 
            "source": "from watson_machine_learning_client import WatsonMachineLearningAPIClient"
        }, 
        {
            "execution_count": 6, 
            "cell_type": "code", 
            "metadata": {}, 
            "outputs": [], 
            "source": "wml_client = WatsonMachineLearningAPIClient(wml_credentials)"
        }, 
        {
            "source": "You cand check the details of your Watson Machine Learning service by calling the `service_instance.details` attribute.", 
            "cell_type": "markdown", 
            "metadata": {}
        }, 
        {
            "execution_count": 7, 
            "cell_type": "code", 
            "metadata": {}, 
            "outputs": [
                {
                    "output_type": "stream", 
                    "name": "stdout", 
                    "text": "{'metadata': {'guid': 'b4b6c696-172c-4164-8049-c0b621dbf3c9', 'url': 'https://us-south.ml.cloud.ibm.com/v3/wml_instances/b4b6c696-172c-4164-8049-c0b621dbf3c9', 'created_at': '2018-12-10T08:05:26.901Z', 'modified_at': '2019-07-08T21:43:27.219Z'}, 'entity': {'source': 'Bluemix', 'published_models': {'url': 'https://us-south.ml.cloud.ibm.com/v3/wml_instances/b4b6c696-172c-4164-8049-c0b621dbf3c9/published_models'}, 'usage': {'expiration_date': '2019-08-01T00:00:00.000Z', 'computation_time': {'current': 0}, 'gpu_count_k80': {'limit': 48, 'current': 0}, 'model_count': {'limit': 1000, 'current': 60}, 'gpu_count_p100': {'limit': 14, 'current': 0}, 'prediction_count': {'current': 26}, 'capacity_units': {'current': 223596}, 'deployment_count': {'limit': 1000, 'current': -6}, 'gpu_count_v100': {'limit': 34, 'current': 0}}, 'tags': None, 'plan_id': '0f2a3c2c-456b-40f3-9b19-726d2740b11c', 'status': 'Active', 'organization_guid': 'N/A', 'region': 'us-south', 'account': {'id': '4512e0f7a54c74e3c3742a68d5641ddb', 'name': \"Jihyoung Kim's Account\", 'type': 'PAYG'}, 'owner': {'ibm_id': '310000SXE7', 'email': 'jihyoungkim@us.ibm.com', 'user_id': 'b811bd0c-9771-4b3f-b86e-2d76bdd4105f', 'country_code': 'USA', 'beta_user': True}, 'deployments': {'url': 'https://us-south.ml.cloud.ibm.com/v3/wml_instances/b4b6c696-172c-4164-8049-c0b621dbf3c9/deployments'}, 'space_guid': 'N/A', 'plan': 'standard'}}\n"
                }
            ], 
            "source": "# List information about your WML service instance.\nprint(wml_client.service_instance.details)"
        }, 
        {
            "source": "Obtain information about the stored models in your WML instance.", 
            "cell_type": "markdown", 
            "metadata": {}
        }, 
        {
            "execution_count": 8, 
            "cell_type": "code", 
            "metadata": {}, 
            "outputs": [
                {
                    "output_type": "stream", 
                    "name": "stdout", 
                    "text": "------------------------------------  -------------------------------------------  ------------------------  -----------------\nGUID                                  NAME                                         CREATED                   FRAMEWORK\n4e98e7b9-86e6-48ac-8bc8-2084a8d10ee1  Product line model                           2019-07-08T21:39:42.597Z  mllib-2.3\n53b90fb3-0d12-4d66-96c8-b4e4cf96a0ae  Customer churn Spark model                   2019-07-03T15:47:49.776Z  mllib-2.3\nad24c140-f97a-49f2-b02c-f8ce44a58c27  Custom ARIMA estimator for sklearn pipeline  2019-07-03T01:04:33.998Z  scikit-learn-0.19\n471b39cc-9c3b-4ff9-a8ea-0297efe0ca5d  Boston house price prediction                2019-05-20T18:19:55.433Z  scikit-learn-0.19\nfc5462c8-7eb9-4dda-8b0a-947e2faa30da  WML Product Line Prediction Model            2019-05-17T17:33:53.278Z  mllib-2.3\na57e82a9-076e-4236-8bd2-7465e726c419  WML Product Line Prediction Model            2019-05-17T17:28:36.434Z  mllib-2.3\n914b598b-f52e-4a87-bfed-2f4163eba25e  Boston house price prediction                2019-05-13T21:11:04.132Z  scikit-learn-0.19\n43dbda1f-34f4-4396-9b57-942d96389440  Boston house price prediction                2019-05-13T19:16:12.783Z  scikit-learn-0.19\n20da8eb9-36d3-4230-bf0c-ba4f7434080c  ML Contest - Label Prediction Model          2019-05-07T16:43:17.658Z  scikit-learn-0.19\n6ee6777d-b716-49e8-acf0-1913fec902f3  ML Contest - ETA Prediction Model            2019-05-07T16:43:16.065Z  scikit-learn-0.19\n3bb7e3ab-836a-4331-9676-7bcc07cc2d63  ML Contest - Assignee Prediction Model       2019-05-07T16:43:14.430Z  scikit-learn-0.19\n0ffb0000-511b-443d-a4fe-3e076ce2381c  WML Product Line Prediction Model            2019-04-26T17:19:09.804Z  mllib-2.3\neecf9e06-24cc-4675-a84e-adcf863b0ec6  WML Product Line Prediction Model            2019-04-26T16:57:07.468Z  mllib-2.3\n24f8c253-ab45-45fc-ab94-65ceba1f3dcc  WML Product Line Prediction Model            2019-04-25T22:15:37.304Z  mllib-2.3\n9eabbb0d-aaaf-4f00-a7b4-609b8253c9ab  Time Series SPSS Model                       2019-03-22T17:48:22.760Z  spss-modeler-18.1\n0de88973-a74f-46c7-9ce5-bb3a72457ebc  TensorFlow MNIST model                       2019-03-15T18:27:25.134Z  tensorflow-1.5\nf72ed23b-a7dd-4668-8b18-60e55ae2a59a  Best Heart Drug Selection                    2019-03-12T23:47:20.526Z  mllib-2.3\n2660bd78-4ecb-4224-85d6-667b43eb3813  Sentiment Prediction Model                   2019-03-12T23:01:07.679Z  mllib-2.3\n93638ac0-a8ae-4cf7-a3b5-47e026ad5bcd  SPSS model for Churn prediction              2019-03-12T12:59:13.801Z  spss-modeler-18.1\n4e7d708b-783c-4f82-95c2-90d02957031f  Customer churn Spark model                   2019-03-11T15:27:06.684Z  mllib-2.3\n56529f33-9bce-45f5-87f5-b6bc838b88a0  MNIST best model                             2019-03-07T13:37:39.720Z  tensorflow-1.5\na59d7814-b8f9-4e13-b433-253364dec6ff  Customer churn Spark model                   2019-03-07T13:14:14.864Z  mllib-2.3\n5fb4a3c0-f18a-4936-ba15-294c13849167  Product line model                           2019-03-06T14:24:29.322Z  mllib-2.3\n193f97a4-2a48-4be7-9497-11ccc58aebb3  My cool mnist model                          2019-03-06T12:52:11.179Z  tensorflow-1.5\n2dcc72ce-16c2-4ad0-94c8-77f37317b47b  Boston house price prediction                2019-03-06T11:45:30.725Z  scikit-learn-0.19\nf7982685-3040-4936-a7a4-d42aec6b2e1c  Boston house price prediction                2019-03-06T11:32:56.268Z  scikit-learn-0.19\nc9dfebfa-0411-4e3e-a9c5-9a311444ed59  CHAID PMML model for Iris data               2019-03-04T12:59:21.351Z  pmml-4.2\nc0e97a79-7db0-471e-afd8-f3e238fd16b6  XGBoost model for breast cancer              2019-02-28T19:11:24.484Z  scikit-learn-0.19\n8008b47c-0f07-482c-8d2f-0b6940c824e5  SMS Spam prediction model                    2019-02-28T00:57:59.713Z  scikit-learn-0.19\nf2ea0716-7d1f-484a-8468-14f4b6ec7333  WML Product Line Prediction Model            2019-02-27T13:50:04.628Z  mllib-2.3\nfe1f7f54-b66f-46ed-8785-9fa5d129e02e  SPSS model for Churn prediction              2019-02-27T11:53:10.672Z  spss-modeler-18.1\n7bd8d8b7-bb2b-4e71-95e6-502fec50657f  SPSS model for Churn prediction              2019-02-27T09:29:04.867Z  spss-modeler-18.1\nc4fbb8ff-0e1b-4c45-b155-85b07527ecc3  SPSS model for Churn prediction              2019-02-26T13:13:42.220Z  spss-modeler-18.1\n8a245de4-7907-44fe-b67f-3cf1746d9eb4  CHAID PMML model for Iris data               2019-02-25T13:09:14.752Z  pmml-4.2\n462931ef-bcf8-486c-8bcb-2b2c114cb20c  MNIST - compressed keras model               2019-02-25T12:29:43.085Z  tensorflow-1.5\ne349018e-a37c-4d26-bb86-01ce7f52bdaa  SMS Spam prediction model                    2019-02-13T15:52:39.175Z  scikit-learn-0.19\n0cc8a058-6b08-4ae5-84df-a62d49e0f4bf  SPSS XGBoost Tree Regression model_auto-opt  2019-02-12T19:00:25.864Z  spss-modeler-18.1\n67ee96bc-cb64-4ad0-8255-bf471df915bb  SMS Spam prediction model                    2019-02-12T02:48:36.430Z  scikit-learn-0.19\n9de866c9-bb52-4c19-b095-94c265530f46  Earthquake magnitude prediction model        2019-02-11T16:41:38.815Z  tensorflow-1.12\nf514ff10-8857-433c-89b0-280c708a6e26  Earthquake magnitude prediction model        2019-02-11T16:31:26.538Z  tensorflow-1.12\ne561751f-d7d9-4c6f-a7af-6677baf3d45f  Earthquake magnitude prediction model        2019-02-07T00:21:53.513Z  tensorflow-1.12\nf87ac4d9-7a05-435d-98eb-6eacd290e3cc  Earthquake magnitude prediction model        2019-02-07T00:08:13.678Z  tensorflow-1.12\n482e49ea-1207-45b8-bf57-89d57bc44678  SPSS XGBoost Regression Model - Car Price    2019-02-05T18:09:21.456Z  spss-modeler-18.1\ne0ef0258-ef7c-45f0-9466-3568e03fed65  SPSS (Auto) Regression Model - Car Price     2019-01-30T23:18:33.431Z  spss-modeler-18.1\nafb7a22e-1e6c-4e29-a1da-5305a2f5a16b  WML Product Line Prediction Model            2019-01-19T19:36:59.710Z  mllib-2.3\n61c9afb7-94ae-4c05-ad2b-dc734bb0f932  SPSS model for Churn prediction              2019-01-18T10:28:30.835Z  spss-modeler-18.1\n52e8d90f-482a-4358-8889-979ecb5f35c0  CHAID PMML model for Iris data               2019-01-18T09:36:11.392Z  pmml-4.2\n47b21e40-eba3-4cda-b7d2-cb9a2d31d12d  Customer churn Spark model                   2019-01-18T06:45:13.422Z  mllib-2.3\nf5eb38e5-2b04-4da0-bf14-3edafe554be8  Customer churn Spark model                   2019-01-18T02:18:45.291Z  mllib-2.3\ne772e16f-936f-4f20-849d-259ea80b1e87  Product line model                           2019-01-17T09:57:27.972Z  mllib-2.3\n------------------------------------  -------------------------------------------  ------------------------  -----------------\nNote: Only first 50 records were displayed. To display more use 'limit' parameter.\n"
                }
            ], 
            "source": "# List information about the stored models.\nwml_client.repository.list_models()"
        }, 
        {
            "source": "List deployed models in your WML service instance.", 
            "cell_type": "markdown", 
            "metadata": {}
        }, 
        {
            "execution_count": 9, 
            "cell_type": "code", 
            "metadata": {
                "scrolled": false
            }, 
            "outputs": [
                {
                    "output_type": "stream", 
                    "name": "stdout", 
                    "text": "------------------------------------  -------------------------------------------------------  -------  ------------------  ------------------------  -----------------  -------------\nGUID                                  NAME                                                     TYPE     STATE               CREATED                   FRAMEWORK          ARTIFACT TYPE\na4741007-2bc4-4a5d-b3bc-bbac1b6a8c83  Product line model deployment                            online   DEPLOY_SUCCESS      2019-07-08T21:43:21.337Z  mllib-2.3          model\n7985e484-4192-400e-82e5-3756d4600668  ARIMA model python function deployment                   online   DEPLOY_SUCCESS      2019-07-03T20:33:40.817Z  n/a                function\n6aedb5b7-638a-4388-ab0d-45fecb3b7081  Customer Churn Prediction                                online   DEPLOY_SUCCESS      2019-07-03T15:51:34.166Z  mllib-2.3          model\ncfcd5f9e-5b07-4bea-b57d-304c12254add  sklearn_pipeline_arima                                   online   DEPLOY_SUCCESS      2019-07-03T01:06:29.302Z  scikit-learn-0.19  model\n7b045679-07c9-4225-9116-c153c6359588  Virtual deployment of Boston model                       virtual  DEPLOY_IN_PROGRESS  2019-05-20T18:20:14.124Z  scikit-learn-0.19  model\n2b9a344c-2dbf-4568-920d-bb5b598d8273  Online scoring                                           online   DEPLOY_SUCCESS      2019-05-17T17:34:23.382Z  mllib-2.3          model\n69aa4267-dc8c-4243-bc33-3ee7571c0ca4  Online scoring                                           online   DEPLOY_SUCCESS      2019-05-17T17:29:35.859Z  mllib-2.3          model\n81911f93-50bb-4fec-a146-eb6f8519b79e  Virtual deployment of Boston model                       virtual  DEPLOY_IN_PROGRESS  2019-05-13T21:11:07.340Z  scikit-learn-0.19  model\n4431988f-678b-4f40-92b4-2dbe63ea54e2  Virtual deployment of Boston model                       virtual  DEPLOY_IN_PROGRESS  2019-05-13T19:16:19.731Z  scikit-learn-0.19  model\n31fdffd5-6a0a-459f-a160-7c4be26ddf15  ML Contest - Label Prediction Model deployment           online   DEPLOY_SUCCESS      2019-05-07T16:48:56.694Z  scikit-learn-0.19  model\n18fe2647-55e0-451a-8f51-0c3195223981  ML Contest - Issue ETA Prediction Model deployment       online   DEPLOY_SUCCESS      2019-05-07T16:48:51.102Z  scikit-learn-0.19  model\n5649340d-248b-4d34-a2d8-ed3e0316ea9b  ML Contest - Assignee Prediction Model deployment        online   DEPLOY_SUCCESS      2019-05-07T16:48:45.286Z  scikit-learn-0.19  model\n49055fc5-88f4-46ea-b17a-517d75f120ba  Online scoring                                           online   DEPLOY_SUCCESS      2019-04-26T17:19:40.703Z  mllib-2.3          model\n7eb9b874-53b8-463c-bd19-058ee52e3e3d  Online scoring                                           online   DEPLOY_SUCCESS      2019-04-26T17:07:07.833Z  mllib-2.3          model\n8b95a4dd-4b3f-4b36-bd3e-b58b59f100e2  Mnist model deployment                                   online   DEPLOY_SUCCESS      2019-04-02T16:09:27.875Z  tensorflow-1.5     model\n451f5f1a-d1f5-4a90-a441-b2953053ae6f  Time Series model (SPSS) deployment                      online   DEPLOY_SUCCESS      2019-03-28T19:00:49.524Z  spss-modeler-18.1  model\n486a79af-ea0b-4e8e-8166-dc2bb43b6c98  TensorFlow MNIST model deployment                        online   DEPLOY_SUCCESS      2019-03-15T18:27:34.468Z  tensorflow-1.5     model\n92991643-a229-4f9e-a70a-3e9de612942e  Sample SPSS model deployment                             online   DEPLOY_SUCCESS      2019-03-12T12:59:15.857Z  spss-modeler-18.1  model\ndce80b25-3d32-4005-b96b-9d9c80a7239a  MNIST keras deployment                                   online   DEPLOY_FAILURE      2019-03-07T13:37:41.529Z  tensorflow-1.5     model\n00edc46c-5df5-482e-936a-4d9f2e5fbc06  Product line model deployment                            online   DEPLOY_SUCCESS      2019-03-06T14:30:35.086Z  mllib-2.3          model\n86da6500-18ff-4970-b3e4-7e335d4a08f9  Mnist model deployment                                   online   DEPLOY_SUCCESS      2019-03-06T12:52:13.175Z  tensorflow-1.5     model\nd250df1b-6e43-4c69-98d2-10ff25b5d63d  Virtual deployment of Boston model                       virtual  DEPLOY_SUCCESS      2019-03-06T11:45:33.176Z  scikit-learn-0.19  model\n6d3cf6bb-db92-427c-8b52-9d050d7bfec8  Virtual deployment of Boston model                       virtual  DEPLOY_SUCCESS      2019-03-06T11:32:59.110Z  scikit-learn-0.19  model\nded4770f-c2fe-4653-9ce2-0c79ecfa10be  Iris species prediction                                  online   DEPLOY_SUCCESS      2019-03-04T12:59:23.413Z  pmml-4.2           model\n450f555b-1952-4ef1-90be-96a16f600345  Predict breast cancer                                    online   DEPLOY_SUCCESS      2019-02-28T19:11:28.862Z  scikit-learn-0.19  model\ndd987565-3e04-4179-9cf9-546710fbadcd  Web scraping python function deployment                  online   DEPLOY_SUCCESS      2019-02-28T11:50:04.209Z  n/a                function\n984ffa92-1c82-4b54-bb56-f6f85e915227  Web scraping python function deployment                  online   DEPLOY_SUCCESS      2019-02-27T17:50:16.907Z  n/a                function\ne5472c3f-c7d7-4a3e-9b20-44f03030373e  Web scraping python function deployment                  online   DEPLOY_SUCCESS      2019-02-27T16:51:24.029Z  n/a                function\n304c671c-6a48-496d-b27b-3ad9888a0156  Online scoring                                           online   DEPLOY_SUCCESS      2019-02-27T13:50:39.730Z  mllib-2.3          model\n18298746-41ec-4bac-928c-fc34e3708ca9  Sample SPSS model deployment                             online   DEPLOY_SUCCESS      2019-02-27T11:53:13.523Z  spss-modeler-18.1  model\n375d050d-1e3b-49e5-9f1d-655f28734ec7  Sample SPSS model deployment                             online   DEPLOY_SUCCESS      2019-02-27T09:29:07.286Z  spss-modeler-18.1  model\n2924aaaf-bddf-4567-8206-6972c163dfa4  Sample SPSS model deployment                             online   DEPLOY_SUCCESS      2019-02-26T13:13:44.977Z  spss-modeler-18.1  model\nfeb87375-fca8-4b0c-8f2f-5c83a6e26115  Iris species prediction                                  online   DEPLOY_SUCCESS      2019-02-25T13:09:17.454Z  pmml-4.2           model\na0e16777-75ad-489a-a6db-5213619381a4  Keras MNIST model deployment through compressed file.    online   DEPLOY_SUCCESS      2019-02-25T12:29:47.265Z  tensorflow-1.5     model\n5c5ebf10-c47a-4224-b35d-3646b0348af1  Web scraping python function deployment                  online   DEPLOY_SUCCESS      2019-02-21T14:58:00.141Z  n/a                function\nb9efb426-845a-45e7-b591-85c4bdb1417c  SMS Spam prediction model deployment.                    online   DEPLOY_SUCCESS      2019-02-13T15:52:48.108Z  scikit-learn-0.19  model\n569fb590-41aa-433e-aeb4-89a9688a4a7b  Keras earthquake magnitude prediction model deployment.  online   DEPLOY_SUCCESS      2019-02-11T16:41:49.568Z  tensorflow-1.12    model\n7b2ff02b-b6a7-4ef4-b0e6-6765b1c45766  Keras earthquake magnitude prediction model deployment.  online   DEPLOY_SUCCESS      2019-02-07T00:21:58.175Z  tensorflow-1.12    model\na738de63-d74e-454a-9dd7-f377c65420bc  Online scoring                                           online   DEPLOY_SUCCESS      2019-01-19T19:49:21.391Z  mllib-2.3          model\nd8f43799-cf5c-499f-a9d3-42d2e398f337  Sample SPSS model deployment                             online   DEPLOY_SUCCESS      2019-01-18T10:28:38.134Z  spss-modeler-18.1  model\n12056c7c-6ff1-454d-b324-d1cf4b42c4fd  Iris species prediction                                  online   DEPLOY_SUCCESS      2019-01-18T09:36:17.097Z  pmml-4.2           model\na375c7bc-963d-4a9b-9896-7dbcdcaed78d  Web scraping python function deployment                  online   DEPLOY_SUCCESS      2019-01-17T10:11:40.324Z  n/a                function\na8b47a68-060c-4474-a5c0-15da3304063a  Product line model deployment                            online   DEPLOY_SUCCESS      2019-01-17T10:02:44.991Z  mllib-2.3          model\nada89546-d27c-4c32-953f-84f2238eb12a  Product line model deployment                            online   DEPLOY_SUCCESS      2019-01-17T07:14:05.178Z  mllib-2.3          model\n902853d1-9ff6-40a7-8918-d6b7b39c3a4e  Web scraping python function deployment                  online   DEPLOY_SUCCESS      2019-01-17T02:37:29.921Z  n/a                function\n3da0fb97-24b9-44d6-ac16-e97a0cf8dfcb  Keras MNIST model deployment through compressed file.    online   DEPLOY_SUCCESS      2019-01-15T14:49:46.285Z  tensorflow-1.5     model\n------------------------------------  -------------------------------------------------------  -------  ------------------  ------------------------  -----------------  -------------\n"
                }
            ], 
            "source": "# List the deployed models.\nwml_client.deployments.list()"
        }, 
        {
            "source": "<a id=\"scoring\"></a>\n## 2. Persist, deploy, and score a PMML model in the Watson Machine Learning (WML) repository", 
            "cell_type": "markdown", 
            "metadata": {}
        }, 
        {
            "source": "In this section, you will use the Python API client for the WML service to create an online deployment and score the PMML model with a new data record.\n\nFor more information, please refer to the <a href=\"http://wml-api-pyclient.mybluemix.net/\" target=\"_blank\" rel=\"noopener no referrer\">Python API client documentation</a>.\n\n- [2.1 Persist a PMML model](#persist)\n- [2.2 Create an online deployment](#deploy)\n- [2.3 Score a test data record](#score)\n", 
            "cell_type": "markdown", 
            "metadata": {}
        }, 
        {
            "source": "### 2.1 Persist a PMML model<a id=\"persist\"></a>", 
            "cell_type": "markdown", 
            "metadata": {}
        }, 
        {
            "source": "**Action**: Use `wget` to download the sample PMML model, `iris_chaid.xml` from the <a href=\"https://github.com/pmservice/wml-sample-models\" target=\"_blank\" rel=\"noopener no referrer\">Git repository</a>.  \n**Note:** You may need to install the `wget` package. To install the `wget` package, run the following command. ", 
            "cell_type": "markdown", 
            "metadata": {}
        }, 
        {
            "execution_count": 10, 
            "cell_type": "code", 
            "metadata": {}, 
            "outputs": [
                {
                    "output_type": "stream", 
                    "name": "stdout", 
                    "text": "Requirement already up-to-date: wget in /opt/conda/envs/Python36/lib/python3.6/site-packages (3.2)\r\n"
                }
            ], 
            "source": "!pip install --upgrade wget"
        }, 
        {
            "execution_count": 11, 
            "cell_type": "code", 
            "metadata": {}, 
            "outputs": [], 
            "source": "# Download the sample PMML model and the 'iris_chaid.xml' file from the Github repo.\nimport wget\nimport os\n\nsample_dir = 'pmml_sample_model'\nif not os.path.isdir(sample_dir):\n    os.mkdir(sample_dir)\n    \nfilename=os.path.join(sample_dir, 'iris_chaid.xml')\nif not os.path.isfile(filename):\n    filename = wget.download('https://github.com/pmservice/wml-sample-models/raw/master/pmml/iris-species/model/iris_chaid.xml', out=sample_dir)"
        }, 
        {
            "source": "Store the downloaded file as *CHAID PMML model for Iris data* in the WML service repository, then list all the files stored in the repository.", 
            "cell_type": "markdown", 
            "metadata": {}
        }, 
        {
            "execution_count": 12, 
            "cell_type": "code", 
            "metadata": {}, 
            "outputs": [
                {
                    "output_type": "stream", 
                    "name": "stdout", 
                    "text": "------------------------------------  -------------------------------------------  ------------------------  -----------------\nGUID                                  NAME                                         CREATED                   FRAMEWORK\n93da112e-62ea-483e-bbe8-8fbc6addb601  CHAID PMML model for Iris data               2019-07-08T21:52:59.865Z  pmml-4.2\n4e98e7b9-86e6-48ac-8bc8-2084a8d10ee1  Product line model                           2019-07-08T21:39:42.597Z  mllib-2.3\n53b90fb3-0d12-4d66-96c8-b4e4cf96a0ae  Customer churn Spark model                   2019-07-03T15:47:49.776Z  mllib-2.3\nad24c140-f97a-49f2-b02c-f8ce44a58c27  Custom ARIMA estimator for sklearn pipeline  2019-07-03T01:04:33.998Z  scikit-learn-0.19\n471b39cc-9c3b-4ff9-a8ea-0297efe0ca5d  Boston house price prediction                2019-05-20T18:19:55.433Z  scikit-learn-0.19\nfc5462c8-7eb9-4dda-8b0a-947e2faa30da  WML Product Line Prediction Model            2019-05-17T17:33:53.278Z  mllib-2.3\na57e82a9-076e-4236-8bd2-7465e726c419  WML Product Line Prediction Model            2019-05-17T17:28:36.434Z  mllib-2.3\n914b598b-f52e-4a87-bfed-2f4163eba25e  Boston house price prediction                2019-05-13T21:11:04.132Z  scikit-learn-0.19\n43dbda1f-34f4-4396-9b57-942d96389440  Boston house price prediction                2019-05-13T19:16:12.783Z  scikit-learn-0.19\n20da8eb9-36d3-4230-bf0c-ba4f7434080c  ML Contest - Label Prediction Model          2019-05-07T16:43:17.658Z  scikit-learn-0.19\n6ee6777d-b716-49e8-acf0-1913fec902f3  ML Contest - ETA Prediction Model            2019-05-07T16:43:16.065Z  scikit-learn-0.19\n3bb7e3ab-836a-4331-9676-7bcc07cc2d63  ML Contest - Assignee Prediction Model       2019-05-07T16:43:14.430Z  scikit-learn-0.19\n0ffb0000-511b-443d-a4fe-3e076ce2381c  WML Product Line Prediction Model            2019-04-26T17:19:09.804Z  mllib-2.3\neecf9e06-24cc-4675-a84e-adcf863b0ec6  WML Product Line Prediction Model            2019-04-26T16:57:07.468Z  mllib-2.3\n24f8c253-ab45-45fc-ab94-65ceba1f3dcc  WML Product Line Prediction Model            2019-04-25T22:15:37.304Z  mllib-2.3\n9eabbb0d-aaaf-4f00-a7b4-609b8253c9ab  Time Series SPSS Model                       2019-03-22T17:48:22.760Z  spss-modeler-18.1\n0de88973-a74f-46c7-9ce5-bb3a72457ebc  TensorFlow MNIST model                       2019-03-15T18:27:25.134Z  tensorflow-1.5\nf72ed23b-a7dd-4668-8b18-60e55ae2a59a  Best Heart Drug Selection                    2019-03-12T23:47:20.526Z  mllib-2.3\n2660bd78-4ecb-4224-85d6-667b43eb3813  Sentiment Prediction Model                   2019-03-12T23:01:07.679Z  mllib-2.3\n93638ac0-a8ae-4cf7-a3b5-47e026ad5bcd  SPSS model for Churn prediction              2019-03-12T12:59:13.801Z  spss-modeler-18.1\n4e7d708b-783c-4f82-95c2-90d02957031f  Customer churn Spark model                   2019-03-11T15:27:06.684Z  mllib-2.3\n56529f33-9bce-45f5-87f5-b6bc838b88a0  MNIST best model                             2019-03-07T13:37:39.720Z  tensorflow-1.5\na59d7814-b8f9-4e13-b433-253364dec6ff  Customer churn Spark model                   2019-03-07T13:14:14.864Z  mllib-2.3\n5fb4a3c0-f18a-4936-ba15-294c13849167  Product line model                           2019-03-06T14:24:29.322Z  mllib-2.3\n193f97a4-2a48-4be7-9497-11ccc58aebb3  My cool mnist model                          2019-03-06T12:52:11.179Z  tensorflow-1.5\n2dcc72ce-16c2-4ad0-94c8-77f37317b47b  Boston house price prediction                2019-03-06T11:45:30.725Z  scikit-learn-0.19\nf7982685-3040-4936-a7a4-d42aec6b2e1c  Boston house price prediction                2019-03-06T11:32:56.268Z  scikit-learn-0.19\nc9dfebfa-0411-4e3e-a9c5-9a311444ed59  CHAID PMML model for Iris data               2019-03-04T12:59:21.351Z  pmml-4.2\nc0e97a79-7db0-471e-afd8-f3e238fd16b6  XGBoost model for breast cancer              2019-02-28T19:11:24.484Z  scikit-learn-0.19\n8008b47c-0f07-482c-8d2f-0b6940c824e5  SMS Spam prediction model                    2019-02-28T00:57:59.713Z  scikit-learn-0.19\nf2ea0716-7d1f-484a-8468-14f4b6ec7333  WML Product Line Prediction Model            2019-02-27T13:50:04.628Z  mllib-2.3\nfe1f7f54-b66f-46ed-8785-9fa5d129e02e  SPSS model for Churn prediction              2019-02-27T11:53:10.672Z  spss-modeler-18.1\n7bd8d8b7-bb2b-4e71-95e6-502fec50657f  SPSS model for Churn prediction              2019-02-27T09:29:04.867Z  spss-modeler-18.1\nc4fbb8ff-0e1b-4c45-b155-85b07527ecc3  SPSS model for Churn prediction              2019-02-26T13:13:42.220Z  spss-modeler-18.1\n8a245de4-7907-44fe-b67f-3cf1746d9eb4  CHAID PMML model for Iris data               2019-02-25T13:09:14.752Z  pmml-4.2\n462931ef-bcf8-486c-8bcb-2b2c114cb20c  MNIST - compressed keras model               2019-02-25T12:29:43.085Z  tensorflow-1.5\ne349018e-a37c-4d26-bb86-01ce7f52bdaa  SMS Spam prediction model                    2019-02-13T15:52:39.175Z  scikit-learn-0.19\n0cc8a058-6b08-4ae5-84df-a62d49e0f4bf  SPSS XGBoost Tree Regression model_auto-opt  2019-02-12T19:00:25.864Z  spss-modeler-18.1\n67ee96bc-cb64-4ad0-8255-bf471df915bb  SMS Spam prediction model                    2019-02-12T02:48:36.430Z  scikit-learn-0.19\n9de866c9-bb52-4c19-b095-94c265530f46  Earthquake magnitude prediction model        2019-02-11T16:41:38.815Z  tensorflow-1.12\nf514ff10-8857-433c-89b0-280c708a6e26  Earthquake magnitude prediction model        2019-02-11T16:31:26.538Z  tensorflow-1.12\ne561751f-d7d9-4c6f-a7af-6677baf3d45f  Earthquake magnitude prediction model        2019-02-07T00:21:53.513Z  tensorflow-1.12\nf87ac4d9-7a05-435d-98eb-6eacd290e3cc  Earthquake magnitude prediction model        2019-02-07T00:08:13.678Z  tensorflow-1.12\n482e49ea-1207-45b8-bf57-89d57bc44678  SPSS XGBoost Regression Model - Car Price    2019-02-05T18:09:21.456Z  spss-modeler-18.1\ne0ef0258-ef7c-45f0-9466-3568e03fed65  SPSS (Auto) Regression Model - Car Price     2019-01-30T23:18:33.431Z  spss-modeler-18.1\nafb7a22e-1e6c-4e29-a1da-5305a2f5a16b  WML Product Line Prediction Model            2019-01-19T19:36:59.710Z  mllib-2.3\n61c9afb7-94ae-4c05-ad2b-dc734bb0f932  SPSS model for Churn prediction              2019-01-18T10:28:30.835Z  spss-modeler-18.1\n52e8d90f-482a-4358-8889-979ecb5f35c0  CHAID PMML model for Iris data               2019-01-18T09:36:11.392Z  pmml-4.2\n47b21e40-eba3-4cda-b7d2-cb9a2d31d12d  Customer churn Spark model                   2019-01-18T06:45:13.422Z  mllib-2.3\nf5eb38e5-2b04-4da0-bf14-3edafe554be8  Customer churn Spark model                   2019-01-18T02:18:45.291Z  mllib-2.3\n------------------------------------  -------------------------------------------  ------------------------  -----------------\nNote: Only first 50 records were displayed. To display more use 'limit' parameter.\n"
                }
            ], 
            "source": "# Save the downloaded file to the WML repository.\nprops_pmml = {\n    wml_client.repository.ModelMetaNames.NAME: 'CHAID PMML model for Iris data',\n    wml_client.repository.ModelMetaNames.AUTHOR_NAME: 'IBM', \n    wml_client.repository.ModelMetaNames.FRAMEWORK_NAME: 'pmml', \n    wml_client.repository.ModelMetaNames.FRAMEWORK_VERSION: '4.2'\n}\n\nmodel_details = wml_client.repository.store_model(filename, props_pmml)\nwml_client.repository.list_models()"
        }, 
        {
            "source": "**Note:** From the list of downloaded files, you can see that model is successfully stored in the WML repository.", 
            "cell_type": "markdown", 
            "metadata": {}
        }, 
        {
            "source": "### 2.2 Create an online deployment<a id=\"deploy\"></a>", 
            "cell_type": "markdown", 
            "metadata": {}
        }, 
        {
            "source": "Now, create an online deployment, *Iris species prediction*, for the stored model, and list all the online deployments for the model.", 
            "cell_type": "markdown", 
            "metadata": {}
        }, 
        {
            "execution_count": 13, 
            "cell_type": "code", 
            "metadata": {}, 
            "outputs": [
                {
                    "output_type": "stream", 
                    "name": "stdout", 
                    "text": "\n\n#######################################################################################\n\nSynchronous deployment creation for uid: '93da112e-62ea-483e-bbe8-8fbc6addb601' started\n\n#######################################################################################\n\n\nINITIALIZING\nDEPLOY_SUCCESS\n\n\n------------------------------------------------------------------------------------------------\nSuccessfully finished deployment creation, deployment_uid='247cd224-2459-4f77-8369-282bd20461ad'\n------------------------------------------------------------------------------------------------\n\n\n------------------------------------  -------------------------------------------------------  -------  ------------------  ------------------------  -----------------  -------------\nGUID                                  NAME                                                     TYPE     STATE               CREATED                   FRAMEWORK          ARTIFACT TYPE\n247cd224-2459-4f77-8369-282bd20461ad  Iris species prediction                                  online   DEPLOY_SUCCESS      2019-07-08T21:53:02.342Z  pmml-4.2           model\na4741007-2bc4-4a5d-b3bc-bbac1b6a8c83  Product line model deployment                            online   DEPLOY_SUCCESS      2019-07-08T21:43:21.337Z  mllib-2.3          model\n7985e484-4192-400e-82e5-3756d4600668  ARIMA model python function deployment                   online   DEPLOY_SUCCESS      2019-07-03T20:33:40.817Z  n/a                function\n6aedb5b7-638a-4388-ab0d-45fecb3b7081  Customer Churn Prediction                                online   DEPLOY_SUCCESS      2019-07-03T15:51:34.166Z  mllib-2.3          model\ncfcd5f9e-5b07-4bea-b57d-304c12254add  sklearn_pipeline_arima                                   online   DEPLOY_SUCCESS      2019-07-03T01:06:29.302Z  scikit-learn-0.19  model\n7b045679-07c9-4225-9116-c153c6359588  Virtual deployment of Boston model                       virtual  DEPLOY_IN_PROGRESS  2019-05-20T18:20:14.124Z  scikit-learn-0.19  model\n2b9a344c-2dbf-4568-920d-bb5b598d8273  Online scoring                                           online   DEPLOY_SUCCESS      2019-05-17T17:34:23.382Z  mllib-2.3          model\n69aa4267-dc8c-4243-bc33-3ee7571c0ca4  Online scoring                                           online   DEPLOY_SUCCESS      2019-05-17T17:29:35.859Z  mllib-2.3          model\n81911f93-50bb-4fec-a146-eb6f8519b79e  Virtual deployment of Boston model                       virtual  DEPLOY_IN_PROGRESS  2019-05-13T21:11:07.340Z  scikit-learn-0.19  model\n4431988f-678b-4f40-92b4-2dbe63ea54e2  Virtual deployment of Boston model                       virtual  DEPLOY_IN_PROGRESS  2019-05-13T19:16:19.731Z  scikit-learn-0.19  model\n31fdffd5-6a0a-459f-a160-7c4be26ddf15  ML Contest - Label Prediction Model deployment           online   DEPLOY_SUCCESS      2019-05-07T16:48:56.694Z  scikit-learn-0.19  model\n18fe2647-55e0-451a-8f51-0c3195223981  ML Contest - Issue ETA Prediction Model deployment       online   DEPLOY_SUCCESS      2019-05-07T16:48:51.102Z  scikit-learn-0.19  model\n5649340d-248b-4d34-a2d8-ed3e0316ea9b  ML Contest - Assignee Prediction Model deployment        online   DEPLOY_SUCCESS      2019-05-07T16:48:45.286Z  scikit-learn-0.19  model\n49055fc5-88f4-46ea-b17a-517d75f120ba  Online scoring                                           online   DEPLOY_SUCCESS      2019-04-26T17:19:40.703Z  mllib-2.3          model\n7eb9b874-53b8-463c-bd19-058ee52e3e3d  Online scoring                                           online   DEPLOY_SUCCESS      2019-04-26T17:07:07.833Z  mllib-2.3          model\n8b95a4dd-4b3f-4b36-bd3e-b58b59f100e2  Mnist model deployment                                   online   DEPLOY_SUCCESS      2019-04-02T16:09:27.875Z  tensorflow-1.5     model\n451f5f1a-d1f5-4a90-a441-b2953053ae6f  Time Series model (SPSS) deployment                      online   DEPLOY_SUCCESS      2019-03-28T19:00:49.524Z  spss-modeler-18.1  model\n486a79af-ea0b-4e8e-8166-dc2bb43b6c98  TensorFlow MNIST model deployment                        online   DEPLOY_SUCCESS      2019-03-15T18:27:34.468Z  tensorflow-1.5     model\n92991643-a229-4f9e-a70a-3e9de612942e  Sample SPSS model deployment                             online   DEPLOY_SUCCESS      2019-03-12T12:59:15.857Z  spss-modeler-18.1  model\ndce80b25-3d32-4005-b96b-9d9c80a7239a  MNIST keras deployment                                   online   DEPLOY_FAILURE      2019-03-07T13:37:41.529Z  tensorflow-1.5     model\n00edc46c-5df5-482e-936a-4d9f2e5fbc06  Product line model deployment                            online   DEPLOY_SUCCESS      2019-03-06T14:30:35.086Z  mllib-2.3          model\n86da6500-18ff-4970-b3e4-7e335d4a08f9  Mnist model deployment                                   online   DEPLOY_SUCCESS      2019-03-06T12:52:13.175Z  tensorflow-1.5     model\nd250df1b-6e43-4c69-98d2-10ff25b5d63d  Virtual deployment of Boston model                       virtual  DEPLOY_SUCCESS      2019-03-06T11:45:33.176Z  scikit-learn-0.19  model\n6d3cf6bb-db92-427c-8b52-9d050d7bfec8  Virtual deployment of Boston model                       virtual  DEPLOY_SUCCESS      2019-03-06T11:32:59.110Z  scikit-learn-0.19  model\nded4770f-c2fe-4653-9ce2-0c79ecfa10be  Iris species prediction                                  online   DEPLOY_SUCCESS      2019-03-04T12:59:23.413Z  pmml-4.2           model\n450f555b-1952-4ef1-90be-96a16f600345  Predict breast cancer                                    online   DEPLOY_SUCCESS      2019-02-28T19:11:28.862Z  scikit-learn-0.19  model\ndd987565-3e04-4179-9cf9-546710fbadcd  Web scraping python function deployment                  online   DEPLOY_SUCCESS      2019-02-28T11:50:04.209Z  n/a                function\n984ffa92-1c82-4b54-bb56-f6f85e915227  Web scraping python function deployment                  online   DEPLOY_SUCCESS      2019-02-27T17:50:16.907Z  n/a                function\ne5472c3f-c7d7-4a3e-9b20-44f03030373e  Web scraping python function deployment                  online   DEPLOY_SUCCESS      2019-02-27T16:51:24.029Z  n/a                function\n304c671c-6a48-496d-b27b-3ad9888a0156  Online scoring                                           online   DEPLOY_SUCCESS      2019-02-27T13:50:39.730Z  mllib-2.3          model\n18298746-41ec-4bac-928c-fc34e3708ca9  Sample SPSS model deployment                             online   DEPLOY_SUCCESS      2019-02-27T11:53:13.523Z  spss-modeler-18.1  model\n375d050d-1e3b-49e5-9f1d-655f28734ec7  Sample SPSS model deployment                             online   DEPLOY_SUCCESS      2019-02-27T09:29:07.286Z  spss-modeler-18.1  model\n2924aaaf-bddf-4567-8206-6972c163dfa4  Sample SPSS model deployment                             online   DEPLOY_SUCCESS      2019-02-26T13:13:44.977Z  spss-modeler-18.1  model\nfeb87375-fca8-4b0c-8f2f-5c83a6e26115  Iris species prediction                                  online   DEPLOY_SUCCESS      2019-02-25T13:09:17.454Z  pmml-4.2           model\na0e16777-75ad-489a-a6db-5213619381a4  Keras MNIST model deployment through compressed file.    online   DEPLOY_SUCCESS      2019-02-25T12:29:47.265Z  tensorflow-1.5     model\n5c5ebf10-c47a-4224-b35d-3646b0348af1  Web scraping python function deployment                  online   DEPLOY_SUCCESS      2019-02-21T14:58:00.141Z  n/a                function\nb9efb426-845a-45e7-b591-85c4bdb1417c  SMS Spam prediction model deployment.                    online   DEPLOY_SUCCESS      2019-02-13T15:52:48.108Z  scikit-learn-0.19  model\n569fb590-41aa-433e-aeb4-89a9688a4a7b  Keras earthquake magnitude prediction model deployment.  online   DEPLOY_SUCCESS      2019-02-11T16:41:49.568Z  tensorflow-1.12    model\n7b2ff02b-b6a7-4ef4-b0e6-6765b1c45766  Keras earthquake magnitude prediction model deployment.  online   DEPLOY_SUCCESS      2019-02-07T00:21:58.175Z  tensorflow-1.12    model\na738de63-d74e-454a-9dd7-f377c65420bc  Online scoring                                           online   DEPLOY_SUCCESS      2019-01-19T19:49:21.391Z  mllib-2.3          model\nd8f43799-cf5c-499f-a9d3-42d2e398f337  Sample SPSS model deployment                             online   DEPLOY_SUCCESS      2019-01-18T10:28:38.134Z  spss-modeler-18.1  model\n12056c7c-6ff1-454d-b324-d1cf4b42c4fd  Iris species prediction                                  online   DEPLOY_SUCCESS      2019-01-18T09:36:17.097Z  pmml-4.2           model\na375c7bc-963d-4a9b-9896-7dbcdcaed78d  Web scraping python function deployment                  online   DEPLOY_SUCCESS      2019-01-17T10:11:40.324Z  n/a                function\na8b47a68-060c-4474-a5c0-15da3304063a  Product line model deployment                            online   DEPLOY_SUCCESS      2019-01-17T10:02:44.991Z  mllib-2.3          model\nada89546-d27c-4c32-953f-84f2238eb12a  Product line model deployment                            online   DEPLOY_SUCCESS      2019-01-17T07:14:05.178Z  mllib-2.3          model\n902853d1-9ff6-40a7-8918-d6b7b39c3a4e  Web scraping python function deployment                  online   DEPLOY_SUCCESS      2019-01-17T02:37:29.921Z  n/a                function\n3da0fb97-24b9-44d6-ac16-e97a0cf8dfcb  Keras MNIST model deployment through compressed file.    online   DEPLOY_SUCCESS      2019-01-15T14:49:46.285Z  tensorflow-1.5     model\n------------------------------------  -------------------------------------------------------  -------  ------------------  ------------------------  -----------------  -------------\n"
                }
            ], 
            "source": "# Create an online deployment.\nmodel_uid = wml_client.repository.get_model_uid(model_details)\nmodel_deployment = wml_client.deployments.create(model_uid, name='Iris species prediction')\n\nwml_client.deployments.list()"
        }, 
        {
            "source": "**Note:** From the list of deployed models, you can see that model was  successfully created.", 
            "cell_type": "markdown", 
            "metadata": {}
        }, 
        {
            "source": "### 2.3 Score a test data record<a id=\"score\"></a>", 
            "cell_type": "markdown", 
            "metadata": {}
        }, 
        {
            "source": "Send a sample record using the Python API client to check if the online scoring endpoint is available.", 
            "cell_type": "markdown", 
            "metadata": {}
        }, 
        {
            "execution_count": null, 
            "cell_type": "code", 
            "metadata": {}, 
            "outputs": [], 
            "source": "# Verify the online scoring endpoint.\nmodel_scoring_url = wml_client.deployments.get_scoring_url(model_deployment)\n\nprint(model_scoring_url)"
        }, 
        {
            "source": "You can see that the endpoint url is available for sending scoring requests.\n\nNow, you can score data and predict the species of iris flower.", 
            "cell_type": "markdown", 
            "metadata": {}
        }, 
        {
            "execution_count": 15, 
            "cell_type": "code", 
            "metadata": {}, 
            "outputs": [
                {
                    "output_type": "stream", 
                    "name": "stdout", 
                    "text": "{'fields': [['$R-Species', '$RC-Species', '$RP-Species', '$RP-setosa', '$RP-versicolor', '$RP-virginica', '$RI-Species']], 'values': [['setosa', 1.0, 1.0, 1.0, 0.0, 0.0, '1']]}\n"
                }
            ], 
            "source": "# Score data and predict species of flower.\nscoring_data = {\n    'fields': ['Sepal.Length', 'Sepal.Width', 'Petal.Length', 'Petal.Width'], \n    'values': [[5.1, 3.5, 1.4, 0.2]]\n}\npredictions = wml_client.deployments.score(model_scoring_url, scoring_data) \n\nprint(predictions)"
        }, 
        {
            "source": "As we can see from the prediction, this is the Iris Setosa flower.", 
            "cell_type": "markdown", 
            "metadata": {}
        }, 
        {
            "source": "<a id=\"summary\"></a>\n## 3. Summary and next steps     ", 
            "cell_type": "markdown", 
            "metadata": {
                "collapsed": true
            }
        }, 
        {
            "source": "You successfully completed this notebook! You learned how to use Watson Machine Learning for PMML model deployment and scoring. \n\nCheck out our <a href=\"https://dataplatform.ibm.com/docs/content/analyze-data/wml-setup.html\" target=\"_blank\" rel=\"noopener no referrer\">documentation</a> for more samples, tutorials, documentation, how-tos, and blog posts. ", 
            "cell_type": "markdown", 
            "metadata": {
                "collapsed": true
            }
        }, 
        {
            "source": "### Citation\n\nDua, D. and Karra Taniskidou, E. (2017). <a href=\"http://archive.ics.uci.edu/ml\" target=\"_blank\" rel=\"noopener no referrer\">UCI Machine Learning Repository</a>. Irvine, CA: University of California, School of Information and Computer Science.\n", 
            "cell_type": "markdown", 
            "metadata": {}
        }, 
        {
            "source": "### Authors\n\n**Wojciech Sobala** is a Data Scientist at IBM.  \n**Jihyoung Kim**, Ph.D., is a Data Scientist at IBM who strives to make data science easy for everyone through Watson Studio.", 
            "cell_type": "markdown", 
            "metadata": {}
        }, 
        {
            "source": "Copyright \u00a9 2018, 2019 IBM. This notebook and its source code are released under the terms of the MIT License.", 
            "cell_type": "markdown", 
            "metadata": {}
        }, 
        {
            "source": "<div style=\"background:#F5F7FA; height:110px; padding: 2em; font-size:14px;\">\n<span style=\"font-size:18px;color:#152935;\">Love this notebook? </span>\n<span style=\"font-size:15px;color:#152935;float:right;margin-right:40px;\">Don't have an account yet?</span><br>\n<span style=\"color:#5A6872;\">Share it with your colleagues and help them discover the power of Watson Studio!</span>\n<span style=\"border: 1px solid #3d70b2;padding:8px;float:right;margin-right:40px; color:#3d70b2;\"><a href=\"https://ibm.co/wsnotebooks\" target=\"_blank\" style=\"color: #3d70b2;text-decoration: none;\">Sign Up</a></span><br>\n</div>", 
            "cell_type": "markdown", 
            "metadata": {}
        }
    ], 
    "metadata": {
        "kernelspec": {
            "display_name": "Python 3.5", 
            "name": "python3", 
            "language": "python"
        }, 
        "language_info": {
            "mimetype": "text/x-python", 
            "nbconvert_exporter": "python", 
            "version": "3.5.5", 
            "name": "python", 
            "file_extension": ".py", 
            "pygments_lexer": "ipython3", 
            "codemirror_mode": {
                "version": 3, 
                "name": "ipython"
            }
        }
    }, 
    "nbformat": 4
}