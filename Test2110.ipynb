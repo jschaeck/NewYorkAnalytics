{
    "cells": [
        {
            "cell_type": "code", 
            "source": "sc", 
            "metadata": {}, 
            "outputs": [
                {
                    "execution_count": 1, 
                    "metadata": {}, 
                    "output_type": "execute_result", 
                    "data": {
                        "text/plain": "<pyspark.context.SparkContext at 0x7f61db238250>"
                    }
                }
            ], 
            "execution_count": 1
        }, 
        {
            "cell_type": "code", 
            "source": "\n# Your data file was loaded into a StringIO object and you can process the data.\n# Please read the documentation of pandas to learn more about your possibilities to load your data.\n# pandas documentation: http://pandas.pydata.org/pandas-docs/stable/io.html\ndata_3 = get_object_storage_file_with_credentials_ca74e7bc81f845019c8e0b7386181f1f('ProdPush1910', 'SparkJS.txt')\n", 
            "metadata": {}, 
            "outputs": [
                {
                    "traceback": [
                        "\u001b[0;31m\u001b[0m", 
                        "\u001b[0;31mNameError\u001b[0mTraceback (most recent call last)", 
                        "\u001b[0;32m<ipython-input-1-46604d91deef>\u001b[0m in \u001b[0;36m<module>\u001b[0;34m()\u001b[0m\n\u001b[1;32m      3\u001b[0m \u001b[0;31m# Please read the documentation of pandas to learn more about your possibilities to load your data.\u001b[0m\u001b[0;34m\u001b[0m\u001b[0;34m\u001b[0m\u001b[0m\n\u001b[1;32m      4\u001b[0m \u001b[0;31m# pandas documentation: http://pandas.pydata.org/pandas-docs/stable/io.html\u001b[0m\u001b[0;34m\u001b[0m\u001b[0;34m\u001b[0m\u001b[0m\n\u001b[0;32m----> 5\u001b[0;31m \u001b[0mdata_3\u001b[0m \u001b[0;34m=\u001b[0m \u001b[0mget_object_storage_file_with_credentials_ca74e7bc81f845019c8e0b7386181f1f\u001b[0m\u001b[0;34m(\u001b[0m\u001b[0;34m'ProdPush1910'\u001b[0m\u001b[0;34m,\u001b[0m \u001b[0;34m'SparkJS.txt'\u001b[0m\u001b[0;34m)\u001b[0m\u001b[0;34m\u001b[0m\u001b[0m\n\u001b[0m", 
                        "\u001b[0;31mNameError\u001b[0m: name 'get_object_storage_file_with_credentials_ca74e7bc81f845019c8e0b7386181f1f' is not defined"
                    ], 
                    "evalue": "name 'get_object_storage_file_with_credentials_ca74e7bc81f845019c8e0b7386181f1f' is not defined", 
                    "ename": "NameError", 
                    "output_type": "error"
                }
            ], 
            "execution_count": 1
        }, 
        {
            "cell_type": "code", 
            "source": "\n# Your data file was loaded into a StringIO object and you can process the data.\n# Please read the documentation of pandas to learn more about your possibilities to load your data.\n# pandas documentation: http://pandas.pydata.org/pandas-docs/stable/io.html\ndata_2 = get_object_storage_file_with_credentials_ca74e7bc81f845019c8e0b7386181f1f('ProdPush1910', 'cars copy.csv.zip')\n", 
            "metadata": {
                "collapsed": true
            }, 
            "outputs": [], 
            "execution_count": null
        }, 
        {
            "cell_type": "code", 
            "source": "# The code was removed by DSX for sharing.", 
            "metadata": {}, 
            "outputs": [
                {
                    "execution_count": 2, 
                    "metadata": {}, 
                    "output_type": "execute_result", 
                    "data": {
                        "text/html": "<div>\n<table border=\"1\" class=\"dataframe\">\n  <thead>\n    <tr style=\"text-align: right;\">\n      <th></th>\n      <th>mpg</th>\n      <th>cylinders</th>\n      <th>engine</th>\n      <th>horsepower</th>\n      <th>weight</th>\n      <th>acceleration</th>\n      <th>year</th>\n      <th>origin</th>\n      <th>name</th>\n    </tr>\n  </thead>\n  <tbody>\n    <tr>\n      <th>0</th>\n      <td>18</td>\n      <td>8</td>\n      <td>307</td>\n      <td>130</td>\n      <td>3504</td>\n      <td>12.0</td>\n      <td>70</td>\n      <td>American</td>\n      <td>chevrolet chevelle malibu</td>\n    </tr>\n    <tr>\n      <th>1</th>\n      <td>15</td>\n      <td>8</td>\n      <td>350</td>\n      <td>165</td>\n      <td>3693</td>\n      <td>11.5</td>\n      <td>70</td>\n      <td>American</td>\n      <td>buick skylark 320</td>\n    </tr>\n    <tr>\n      <th>2</th>\n      <td>18</td>\n      <td>8</td>\n      <td>318</td>\n      <td>150</td>\n      <td>3436</td>\n      <td>11.0</td>\n      <td>70</td>\n      <td>American</td>\n      <td>plymouth satellite</td>\n    </tr>\n    <tr>\n      <th>3</th>\n      <td>16</td>\n      <td>8</td>\n      <td>304</td>\n      <td>150</td>\n      <td>3433</td>\n      <td>12.0</td>\n      <td>70</td>\n      <td>American</td>\n      <td>amc rebel sst</td>\n    </tr>\n    <tr>\n      <th>4</th>\n      <td>17</td>\n      <td>8</td>\n      <td>302</td>\n      <td>140</td>\n      <td>3449</td>\n      <td>10.5</td>\n      <td>70</td>\n      <td>American</td>\n      <td>ford torino</td>\n    </tr>\n  </tbody>\n</table>\n</div>", 
                        "text/plain": "   mpg  cylinders  engine  horsepower  weight  acceleration  year    origin  \\\n0   18          8     307         130    3504          12.0    70  American   \n1   15          8     350         165    3693          11.5    70  American   \n2   18          8     318         150    3436          11.0    70  American   \n3   16          8     304         150    3433          12.0    70  American   \n4   17          8     302         140    3449          10.5    70  American   \n\n                        name  \n0  chevrolet chevelle malibu  \n1          buick skylark 320  \n2         plymouth satellite  \n3              amc rebel sst  \n4                ford torino  "
                    }
                }
            ], 
            "execution_count": 2
        }
    ], 
    "nbformat": 4, 
    "metadata": {
        "kernelspec": {
            "language": "python", 
            "name": "python2-spark21", 
            "display_name": "Python 2 with Spark 2.1"
        }, 
        "language_info": {
            "file_extension": ".py", 
            "codemirror_mode": {
                "version": 2, 
                "name": "ipython"
            }, 
            "pygments_lexer": "ipython2", 
            "version": "2.7.11", 
            "nbconvert_exporter": "python", 
            "mimetype": "text/x-python", 
            "name": "python"
        }
    }, 
    "nbformat_minor": 1
}