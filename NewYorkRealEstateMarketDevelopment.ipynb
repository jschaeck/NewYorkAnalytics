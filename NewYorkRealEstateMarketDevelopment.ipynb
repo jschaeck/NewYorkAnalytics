{
    "nbformat_minor": 0, 
    "metadata": {
        "kernelspec": {
            "name": "python2", 
            "display_name": "Python 2 with Spark 1.6", 
            "language": "python"
        }, 
        "language_info": {
            "mimetype": "text/x-python", 
            "codemirror_mode": {
                "name": "ipython", 
                "version": 2
            }, 
            "pygments_lexer": "ipython2", 
            "nbconvert_exporter": "python", 
            "name": "python", 
            "file_extension": ".py", 
            "version": "2.7.11"
        }
    }, 
    "cells": [
        {
            "outputs": [
                {
                    "output_type": "stream", 
                    "name": "stdout", 
                    "text": "Juergen likes the new GitHub feature\nArmand likes the new GitHub feature\n"
                }
            ], 
            "source": "print(\"Juergen likes the new GitHub feature\")\nprint(\"Armand likes the new GitHub feature\")", 
            "metadata": {
                "collapsed": false
            }, 
            "cell_type": "code", 
            "execution_count": 2
        }, 
        {
            "outputs": [], 
            "source": "", 
            "metadata": {
                "collapsed": true
            }, 
            "cell_type": "code", 
            "execution_count": null
        }
    ], 
    "nbformat": 4
}