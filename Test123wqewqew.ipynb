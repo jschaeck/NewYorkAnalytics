{
    "nbformat": 4, 
    "nbformat_minor": 0, 
    "cells": [
        {
            "source": "sc", 
            "execution_count": 1, 
            "cell_type": "code", 
            "outputs": [
                {
                    "execution_count": 1, 
                    "output_type": "execute_result", 
                    "metadata": {}, 
                    "data": {
                        "text/plain": "<pyspark.context.SparkContext at 0x7fa9308b9e10>"
                    }
                }
            ], 
            "metadata": {
                "collapsed": false
            }
        }, 
        {
            "source": "# The code was removed by DSX for sharing.", 
            "execution_count": 2, 
            "cell_type": "code", 
            "outputs": [
                {
                    "execution_count": 2, 
                    "output_type": "execute_result", 
                    "metadata": {}, 
                    "data": {
                        "text/plain": "   YEARMONTH  INCIDENTCLASSIFICATION  INCIDENTBOROUGH  COMMUNITYBOARDCODE  \\\n0  YEARMONTH  INCIDENTCLASSIFICATION  INCIDENTBOROUGH  COMMUNITYBOARDCODE   \n1     200907        Structural Fires        Manhattan                   1   \n2     200907        Structural Fires        Manhattan                   2   \n3     200907        Structural Fires        Manhattan                   3   \n4     200907        Structural Fires        Manhattan                   4   \n\n   INCIDENTCOUNT  \n0  INCIDENTCOUNT  \n1             20  \n2             35  \n3             42  \n4             21  ", 
                        "text/html": "<div>\n<table border=\"1\" class=\"dataframe\">\n  <thead>\n    <tr style=\"text-align: right;\">\n      <th></th>\n      <th>YEARMONTH</th>\n      <th>INCIDENTCLASSIFICATION</th>\n      <th>INCIDENTBOROUGH</th>\n      <th>COMMUNITYBOARDCODE</th>\n      <th>INCIDENTCOUNT</th>\n    </tr>\n  </thead>\n  <tbody>\n    <tr>\n      <th>0</th>\n      <td>YEARMONTH</td>\n      <td>INCIDENTCLASSIFICATION</td>\n      <td>INCIDENTBOROUGH</td>\n      <td>COMMUNITYBOARDCODE</td>\n      <td>INCIDENTCOUNT</td>\n    </tr>\n    <tr>\n      <th>1</th>\n      <td>200907</td>\n      <td>Structural Fires</td>\n      <td>Manhattan</td>\n      <td>1</td>\n      <td>20</td>\n    </tr>\n    <tr>\n      <th>2</th>\n      <td>200907</td>\n      <td>Structural Fires</td>\n      <td>Manhattan</td>\n      <td>2</td>\n      <td>35</td>\n    </tr>\n    <tr>\n      <th>3</th>\n      <td>200907</td>\n      <td>Structural Fires</td>\n      <td>Manhattan</td>\n      <td>3</td>\n      <td>42</td>\n    </tr>\n    <tr>\n      <th>4</th>\n      <td>200907</td>\n      <td>Structural Fires</td>\n      <td>Manhattan</td>\n      <td>4</td>\n      <td>21</td>\n    </tr>\n  </tbody>\n</table>\n</div>"
                    }
                }
            ], 
            "metadata": {
                "collapsed": false
            }
        }, 
        {
            "source": "# The code was removed by DSX for sharing.", 
            "execution_count": 3, 
            "cell_type": "code", 
            "outputs": [
                {
                    "execution_count": 3, 
                    "output_type": "execute_result", 
                    "metadata": {}, 
                    "data": {
                        "text/plain": "[Row(YEARMONTH=u'YEARMONTH', INCIDENTCLASSIFICATION=u'INCIDENTCLASSIFICATION', INCIDENTBOROUGH=u'INCIDENTBOROUGH', COMMUNITYBOARDCODE=u'COMMUNITYBOARDCODE', INCIDENTCOUNT=u'INCIDENTCOUNT'),\n Row(YEARMONTH=u'200907', INCIDENTCLASSIFICATION=u'Structural Fires', INCIDENTBOROUGH=u'Manhattan', COMMUNITYBOARDCODE=u'1', INCIDENTCOUNT=u'20'),\n Row(YEARMONTH=u'200907', INCIDENTCLASSIFICATION=u'Structural Fires', INCIDENTBOROUGH=u'Manhattan', COMMUNITYBOARDCODE=u'2', INCIDENTCOUNT=u'35'),\n Row(YEARMONTH=u'200907', INCIDENTCLASSIFICATION=u'Structural Fires', INCIDENTBOROUGH=u'Manhattan', COMMUNITYBOARDCODE=u'3', INCIDENTCOUNT=u'42'),\n Row(YEARMONTH=u'200907', INCIDENTCLASSIFICATION=u'Structural Fires', INCIDENTBOROUGH=u'Manhattan', COMMUNITYBOARDCODE=u'4', INCIDENTCOUNT=u'21')]"
                    }
                }
            ], 
            "metadata": {
                "collapsed": false
            }
        }
    ], 
    "metadata": {
        "language_info": {
            "name": "python", 
            "pygments_lexer": "ipython2", 
            "nbconvert_exporter": "python", 
            "mimetype": "text/x-python", 
            "file_extension": ".py", 
            "version": "2.7.11", 
            "codemirror_mode": {
                "name": "ipython", 
                "version": 2
            }
        }, 
        "kernelspec": {
            "name": "python2-spark20", 
            "display_name": "Python 2 with Spark 2.0", 
            "language": "python"
        }
    }
}